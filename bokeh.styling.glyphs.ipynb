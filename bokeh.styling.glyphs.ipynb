{
 "cells": [
  {
   "cell_type": "code",
   "execution_count": 1,
   "id": "36a5e052",
   "metadata": {},
   "outputs": [],
   "source": [
    "from bokeh.plotting import figure, output_file, show"
   ]
  },
  {
   "cell_type": "code",
   "execution_count": 2,
   "id": "1b6473b1",
   "metadata": {},
   "outputs": [],
   "source": [
    "output_file(\"axes.html\")\n",
    "p = figure(width=400, height=400)\n",
    "r = p.circle([1,2,3,4,5], [2,5,8,2,7])"
   ]
  },
  {
   "cell_type": "code",
   "execution_count": 23,
   "id": "b6fc8927",
   "metadata": {},
   "outputs": [],
   "source": [
    "glyph = r.glyph\n",
    "glyph.size = 100\n",
    "glyph.fill_alpha = 0.2\n",
    "glyph.line_color = \"firebrick\"\n",
    "glyph.line_dash = [6, 3]\n",
    "glyph.line_width = 2"
   ]
  },
  {
   "cell_type": "code",
   "execution_count": 24,
   "id": "cec93d20",
   "metadata": {},
   "outputs": [],
   "source": [
    "show(p)"
   ]
  },
  {
   "cell_type": "code",
   "execution_count": null,
   "id": "fde97934",
   "metadata": {},
   "outputs": [],
   "source": []
  }
 ],
 "metadata": {
  "kernelspec": {
   "display_name": "Python 3 (ipykernel)",
   "language": "python",
   "name": "python3"
  },
  "language_info": {
   "codemirror_mode": {
    "name": "ipython",
    "version": 3
   },
   "file_extension": ".py",
   "mimetype": "text/x-python",
   "name": "python",
   "nbconvert_exporter": "python",
   "pygments_lexer": "ipython3",
   "version": "3.10.5"
  }
 },
 "nbformat": 4,
 "nbformat_minor": 5
}
